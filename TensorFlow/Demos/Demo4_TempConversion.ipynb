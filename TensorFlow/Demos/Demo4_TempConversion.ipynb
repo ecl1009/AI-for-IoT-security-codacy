{
 "cells": [
  {
   "cell_type": "markdown",
   "metadata": {},
   "source": [
    "Code and dataset have been extracted from https://naps.com.mx/blog/un-primer-ejemplo-explicado-de-tensorflow/\n",
    "\n",
    "Authored by: Gibrán García C.   \n",
    "Date: Nov 15, 2020."
   ]
  },
  {
   "cell_type": "code",
   "execution_count": 1,
   "metadata": {},
   "outputs": [],
   "source": [
    "#Import libraries\t\n",
    "import pandas as pd\n",
    "import seaborn as sns\n",
    "import matplotlib.pyplot as plt\n",
    "import tensorflow as tf"
   ]
  },
  {
   "cell_type": "code",
   "execution_count": 2,
   "metadata": {},
   "outputs": [
    {
     "name": "stdout",
     "output_type": "stream",
     "text": [
      "Read CSV\n"
     ]
    },
    {
     "data": {
      "image/png": "[encoded data removed]",
      "text/plain": [
       "<Figure size 640x480 with 1 Axes>"
      ]
     },
     "metadata": {},
     "output_type": "display_data"
    }
   ],
   "source": [
    "#Read csv file\n",
    "print (\"Read CSV\")\n",
    "temperature_df = pd.read_csv(\".\\data\\celsius_a_fahrenheit.csv\")\n",
    "\n",
    "# Plotting the data\n",
    "sns.scatterplot(data=temperature_df,x=\"Celsius\", y=\"Fahrenheit\")\n",
    "plt.show()"
   ]
  },
  {
   "cell_type": "code",
   "execution_count": 3,
   "metadata": {},
   "outputs": [
    {
     "name": "stdout",
     "output_type": "stream",
     "text": [
      "Selecting the columns\n"
     ]
    }
   ],
   "source": [
    "#Loading dataset\n",
    "print (\"Selecting the columns\")\n",
    "X_train = temperature_df['Celsius']\n",
    "y_train = temperature_df['Fahrenheit']"
   ]
  },
  {
   "cell_type": "code",
   "execution_count": 4,
   "metadata": {},
   "outputs": [
    {
     "name": "stdout",
     "output_type": "stream",
     "text": [
      "Creating the model\n"
     ]
    }
   ],
   "source": [
    "#Creating the model\n",
    "print (\"Creating the model\")\n",
    "model = tf.keras.Sequential()\n",
    "model.add(tf.keras.layers.Dense(units=1, input_shape=[1]))"
   ]
  },
  {
   "cell_type": "code",
   "execution_count": 5,
   "metadata": {},
   "outputs": [
    {
     "name": "stdout",
     "output_type": "stream",
     "text": [
      "Compiling the model\n"
     ]
    }
   ],
   "source": [
    "#Compiling the model\n",
    "print (\"Compiling the model\")\n",
    "model.compile(optimizer=tf.keras.optimizers.Adam(1), loss='mean_squared_error')"
   ]
  },
  {
   "cell_type": "code",
   "execution_count": 6,
   "metadata": {},
   "outputs": [
    {
     "name": "stdout",
     "output_type": "stream",
     "text": [
      "Training the model\n",
      "Epoch 1/100\n",
      "1/1 [==============================] - 0s 156ms/step - loss: 2249.3748\n",
      "Epoch 2/100\n",
      "1/1 [==============================] - 0s 2ms/step - loss: 1110.7537\n",
      "Epoch 3/100\n",
      "1/1 [==============================] - 0s 2ms/step - loss: 947.3137\n",
      "Epoch 4/100\n",
      "1/1 [==============================] - 0s 2ms/step - loss: 1223.0326\n",
      "Epoch 5/100\n",
      "1/1 [==============================] - 0s 2ms/step - loss: 1293.2240\n",
      "Epoch 6/100\n",
      "1/1 [==============================] - 0s 2ms/step - loss: 1093.0983\n",
      "Epoch 7/100\n",
      "1/1 [==============================] - 0s 2ms/step - loss: 819.6944\n",
      "Epoch 8/100\n",
      "1/1 [==============================] - 0s 2ms/step - loss: 637.2029\n",
      "Epoch 9/100\n",
      "1/1 [==============================] - 0s 996us/step - loss: 601.7792\n",
      "Epoch 10/100\n",
      "1/1 [==============================] - 0s 3ms/step - loss: 657.8127\n",
      "Epoch 11/100\n",
      "1/1 [==============================] - 0s 2ms/step - loss: 698.8607\n",
      "Epoch 12/100\n",
      "1/1 [==============================] - 0s 3ms/step - loss: 659.6275\n",
      "Epoch 13/100\n",
      "1/1 [==============================] - 0s 996us/step - loss: 550.6077\n",
      "Epoch 14/100\n",
      "1/1 [==============================] - 0s 2ms/step - loss: 426.6432\n",
      "Epoch 15/100\n",
      "1/1 [==============================] - 0s 2ms/step - loss: 341.1057\n",
      "Epoch 16/100\n",
      "1/1 [==============================] - 0s 2ms/step - loss: 314.7594\n",
      "Epoch 17/100\n",
      "1/1 [==============================] - 0s 2ms/step - loss: 328.2821\n",
      "Epoch 18/100\n",
      "1/1 [==============================] - 0s 2ms/step - loss: 340.8905\n",
      "Epoch 19/100\n",
      "1/1 [==============================] - 0s 2ms/step - loss: 321.7694\n",
      "Epoch 20/100\n",
      "1/1 [==============================] - 0s 3ms/step - loss: 268.9650\n",
      "Epoch 21/100\n",
      "1/1 [==============================] - 0s 2ms/step - loss: 204.4731\n",
      "Epoch 22/100\n",
      "1/1 [==============================] - 0s 2ms/step - loss: 155.2864\n",
      "Epoch 23/100\n",
      "1/1 [==============================] - 0s 2ms/step - loss: 135.2643\n",
      "Epoch 24/100\n",
      "1/1 [==============================] - 0s 2ms/step - loss: 137.9755\n",
      "Epoch 25/100\n",
      "1/1 [==============================] - 0s 2ms/step - loss: 143.8307\n",
      "Epoch 26/100\n",
      "1/1 [==============================] - 0s 996us/step - loss: 135.5930\n",
      "Epoch 27/100\n",
      "1/1 [==============================] - 0s 2ms/step - loss: 110.0015\n",
      "Epoch 28/100\n",
      "1/1 [==============================] - 0s 2ms/step - loss: 77.5621\n",
      "Epoch 29/100\n",
      "1/1 [==============================] - 0s 2ms/step - loss: 52.8798\n",
      "Epoch 30/100\n",
      "1/1 [==============================] - 0s 996us/step - loss: 43.7953\n",
      "Epoch 31/100\n",
      "1/1 [==============================] - 0s 2ms/step - loss: 46.7602\n",
      "Epoch 32/100\n",
      "1/1 [==============================] - 0s 2ms/step - loss: 50.9536\n",
      "Epoch 33/100\n",
      "1/1 [==============================] - 0s 996us/step - loss: 47.2443\n",
      "Epoch 34/100\n",
      "1/1 [==============================] - 0s 3ms/step - loss: 34.6327\n",
      "Epoch 35/100\n",
      "1/1 [==============================] - 0s 996us/step - loss: 19.6243\n",
      "Epoch 36/100\n",
      "1/1 [==============================] - 0s 2ms/step - loss: 10.1228\n",
      "Epoch 37/100\n",
      "1/1 [==============================] - 0s 2ms/step - loss: 9.2000\n",
      "Epoch 38/100\n",
      "1/1 [==============================] - 0s 2ms/step - loss: 13.3968\n",
      "Epoch 39/100\n",
      "1/1 [==============================] - 0s 2ms/step - loss: 16.3068\n",
      "Epoch 40/100\n",
      "1/1 [==============================] - 0s 2ms/step - loss: 13.9970\n",
      "Epoch 41/100\n",
      "1/1 [==============================] - 0s 997us/step - loss: 7.6850\n",
      "Epoch 42/100\n",
      "1/1 [==============================] - 0s 2ms/step - loss: 1.9083\n",
      "Epoch 43/100\n",
      "1/1 [==============================] - 0s 2ms/step - loss: 0.3184\n",
      "Epoch 44/100\n",
      "1/1 [==============================] - 0s 997us/step - loss: 2.8076\n",
      "Epoch 45/100\n",
      "1/1 [==============================] - 0s 2ms/step - loss: 6.1240\n",
      "Epoch 46/100\n",
      "1/1 [==============================] - 0s 2ms/step - loss: 7.0151\n",
      "Epoch 47/100\n",
      "1/1 [==============================] - 0s 2ms/step - loss: 4.9222\n",
      "Epoch 48/100\n",
      "1/1 [==============================] - 0s 2ms/step - loss: 1.9993\n",
      "Epoch 49/100\n",
      "1/1 [==============================] - 0s 2ms/step - loss: 0.8279\n",
      "Epoch 50/100\n",
      "1/1 [==============================] - 0s 2ms/step - loss: 2.1107\n",
      "Epoch 51/100\n",
      "1/1 [==============================] - 0s 2ms/step - loss: 4.3339\n",
      "Epoch 52/100\n",
      "1/1 [==============================] - 0s 996us/step - loss: 5.4230\n",
      "Epoch 53/100\n",
      "1/1 [==============================] - 0s 997us/step - loss: 4.6527\n",
      "Epoch 54/100\n",
      "1/1 [==============================] - 0s 2ms/step - loss: 3.0693\n",
      "Epoch 55/100\n",
      "1/1 [==============================] - 0s 996us/step - loss: 2.2621\n",
      "Epoch 56/100\n",
      "1/1 [==============================] - 0s 997us/step - loss: 2.8335\n",
      "Epoch 57/100\n",
      "1/1 [==============================] - 0s 2ms/step - loss: 4.0020\n",
      "Epoch 58/100\n",
      "1/1 [==============================] - 0s 996us/step - loss: 4.5402\n",
      "Epoch 59/100\n",
      "1/1 [==============================] - 0s 2ms/step - loss: 3.9863\n",
      "Epoch 60/100\n",
      "1/1 [==============================] - 0s 2ms/step - loss: 2.9538\n",
      "Epoch 61/100\n",
      "1/1 [==============================] - 0s 2ms/step - loss: 2.3822\n",
      "Epoch 62/100\n",
      "1/1 [==============================] - 0s 2ms/step - loss: 2.5950\n",
      "Epoch 63/100\n",
      "1/1 [==============================] - 0s 996us/step - loss: 3.0923\n",
      "Epoch 64/100\n",
      "1/1 [==============================] - 0s 2ms/step - loss: 3.1700\n",
      "Epoch 65/100\n",
      "1/1 [==============================] - 0s 2ms/step - loss: 2.6407\n",
      "Epoch 66/100\n",
      "1/1 [==============================] - 0s 2ms/step - loss: 1.9365\n",
      "Epoch 67/100\n",
      "1/1 [==============================] - 0s 997us/step - loss: 1.5857\n",
      "Epoch 68/100\n",
      "1/1 [==============================] - 0s 2ms/step - loss: 1.6761\n",
      "Epoch 69/100\n",
      "1/1 [==============================] - 0s 996us/step - loss: 1.8424\n",
      "Epoch 70/100\n",
      "1/1 [==============================] - 0s 2ms/step - loss: 1.7108\n",
      "Epoch 71/100\n",
      "1/1 [==============================] - 0s 996us/step - loss: 1.2818\n",
      "Epoch 72/100\n",
      "1/1 [==============================] - 0s 2ms/step - loss: 0.8696\n",
      "Epoch 73/100\n",
      "1/1 [==============================] - 0s 2ms/step - loss: 0.7291\n",
      "Epoch 74/100\n",
      "1/1 [==============================] - 0s 2ms/step - loss: 0.8037\n",
      "Epoch 75/100\n",
      "1/1 [==============================] - 0s 2ms/step - loss: 0.8362\n",
      "Epoch 76/100\n",
      "1/1 [==============================] - 0s 996us/step - loss: 0.6720\n",
      "Epoch 77/100\n",
      "1/1 [==============================] - 0s 997us/step - loss: 0.4046\n",
      "Epoch 78/100\n",
      "1/1 [==============================] - 0s 2ms/step - loss: 0.2351\n",
      "Epoch 79/100\n",
      "1/1 [==============================] - 0s 996us/step - loss: 0.2389\n",
      "Epoch 80/100\n",
      "1/1 [==============================] - 0s 2ms/step - loss: 0.3056\n",
      "Epoch 81/100\n",
      "1/1 [==============================] - 0s 2ms/step - loss: 0.2880\n",
      "Epoch 82/100\n",
      "1/1 [==============================] - 0s 2ms/step - loss: 0.1671\n",
      "Epoch 83/100\n",
      "1/1 [==============================] - 0s 2ms/step - loss: 0.0505\n",
      "Epoch 84/100\n",
      "1/1 [==============================] - 0s 2ms/step - loss: 0.0312\n",
      "Epoch 85/100\n",
      "1/1 [==============================] - 0s 996us/step - loss: 0.0866\n",
      "Epoch 86/100\n",
      "1/1 [==============================] - 0s 996us/step - loss: 0.1219\n",
      "Epoch 87/100\n",
      "1/1 [==============================] - 0s 997us/step - loss: 0.0869\n",
      "Epoch 88/100\n",
      "1/1 [==============================] - 0s 2ms/step - loss: 0.0240\n",
      "Epoch 89/100\n",
      "1/1 [==============================] - 0s 2ms/step - loss: 0.0034\n",
      "Epoch 90/100\n",
      "1/1 [==============================] - 0s 2ms/step - loss: 0.0380\n",
      "Epoch 91/100\n",
      "1/1 [==============================] - 0s 2ms/step - loss: 0.0775\n",
      "Epoch 92/100\n",
      "1/1 [==============================] - 0s 2ms/step - loss: 0.0763\n",
      "Epoch 93/100\n",
      "1/1 [==============================] - 0s 997us/step - loss: 0.0445\n",
      "Epoch 94/100\n",
      "1/1 [==============================] - 0s 2ms/step - loss: 0.0265\n",
      "Epoch 95/100\n",
      "1/1 [==============================] - 0s 2ms/step - loss: 0.0426\n",
      "Epoch 96/100\n",
      "1/1 [==============================] - 0s 997us/step - loss: 0.0695\n",
      "Epoch 97/100\n",
      "1/1 [==============================] - 0s 2ms/step - loss: 0.0747\n",
      "Epoch 98/100\n",
      "1/1 [==============================] - 0s 996us/step - loss: 0.0564\n",
      "Epoch 99/100\n",
      "1/1 [==============================] - 0s 2ms/step - loss: 0.0404\n",
      "Epoch 100/100\n",
      "1/1 [==============================] - 0s 2ms/step - loss: 0.0444\n"
     ]
    }
   ],
   "source": [
    "#Training the model\n",
    "print (\"Training the model\")\n",
    "epochs_hist = model.fit(X_train, y_train, epochs = 100)"
   ]
  },
  {
   "cell_type": "code",
   "execution_count": 7,
   "metadata": {},
   "outputs": [
    {
     "name": "stdout",
     "output_type": "stream",
     "text": [
      "Assessing the trained model\n",
      "Keys:\n",
      "dict_keys(['loss'])\n"
     ]
    },
    {
     "data": {
      "image/png": "[encoded data removed]",
      "text/plain": [
       "<Figure size 640x480 with 1 Axes>"
      ]
     },
     "metadata": {},
     "output_type": "display_data"
    }
   ],
   "source": [
    "#Assessing the model\n",
    "print (\"Assessing the trained model\")\n",
    "print (\"Keys:\")\n",
    "print(epochs_hist.history.keys())\n",
    "\t\n",
    "#Grafico\n",
    "plt.plot(epochs_hist.history['loss'])\n",
    "plt.title('Training loss progress')\n",
    "plt.xlabel('Epoch')\n",
    "plt.ylabel('Training Loss')\n",
    "plt.legend('Training Loss')\n",
    "plt.show()"
   ]
  },
  {
   "cell_type": "code",
   "execution_count": 8,
   "metadata": {},
   "outputs": [
    {
     "name": "stdout",
     "output_type": "stream",
     "text": [
      "1/1 [==============================] - 0s 44ms/step\n",
      "Predicted temperature: [[31.802382]]\n"
     ]
    }
   ],
   "source": [
    "# Get prediction\n",
    "Temp_C = 0\n",
    "Temp_F = model.predict([Temp_C])\n",
    "print(\"Predicted temperature: \" + str(Temp_F))"
   ]
  },
  {
   "cell_type": "code",
   "execution_count": 9,
   "metadata": {},
   "outputs": [
    {
     "name": "stdout",
     "output_type": "stream",
     "text": [
      "Calculated temperature: 32.0\n"
     ]
    }
   ],
   "source": [
    "# Comparison with the calculated value\n",
    "Temp_F = 9/5 * Temp_C + 32\n",
    "print(\"Calculated temperature: \" + str(Temp_F))"
   ]
  }
 ],
 "metadata": {
  "kernelspec": {
   "display_name": "tensorflow",
   "language": "python",
   "name": "python3"
  },
  "language_info": {
   "codemirror_mode": {
    "name": "ipython",
    "version": 3
   },
   "file_extension": ".py",
   "mimetype": "text/x-python",
   "name": "python",
   "nbconvert_exporter": "python",
   "pygments_lexer": "ipython3",
   "version": "3.10.13"
  }
 },
 "nbformat": 4,
 "nbformat_minor": 2
}
